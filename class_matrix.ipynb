{
 "cells": [
  {
   "cell_type": "markdown",
   "metadata": {},
   "source": [
    "Пространство матриц:\\\n",
    "-Ввод матриц\\\n",
    "-print()\\\n",
    "-Прибавление одной строки с коэффициентом к другой\\\n",
    "-Перестановка строк\\\n",
    "-переход к ступенчатой матрице\\\n",
    "-Сумма матриц\\\n",
    "-Произведение матриц, умножение на скаляр\\\n",
    "-Транспонирование"
   ]
  },
  {
   "cell_type": "code",
   "execution_count": 92,
   "metadata": {},
   "outputs": [],
   "source": [
    "from numbers import Number\n",
    "'''\n",
    "Матрица m*n, n-столбцы, m-строки\n",
    "'''\n",
    "\n",
    "class MatrixError(ValueError):\n",
    "    pass\n",
    "\n",
    "class Matrix:\n",
    "    def __init__(self,m,n=0):  # Ввести матрицу\n",
    "        self.matrix=[]\n",
    "        if isinstance(m,Number) and isinstance(n,Number):  # Ввод матрицы с консоли\n",
    "            self.rows=m\n",
    "            self.columns=n\n",
    "            \n",
    "            for i in range(self.rows):\n",
    "                self.matrix.append([0]*self.columns)\n",
    "                for j in range (self.columns):\n",
    "                    self.matrix[i][j]=float(input('a['+str(i+1)+']['+str(j+1)+']='))\n",
    "\n",
    "        elif isinstance(m,list) and n==0:  # Создание матрицы из созданного ранее списка\n",
    "            self.rows=len(m)\n",
    "            self.columns=len(m[0])\n",
    "            self.comp=m\n",
    "            self.matrix=m.copy()\n",
    "\n",
    "        else:\n",
    "            raise MatrixError('It is impossible to create a matrix with these parameters')\n",
    "\n",
    "    def __str__(self):  # Выводит матрицу на экран в привычном для человека виде (таблицей)\n",
    "        #for i in range(self.rows):\n",
    "            #for j in range (self.rows):\n",
    "                #return '\\n'.join(['  '.join([str(round(s,1)) for s in self.rows]) for self.rows in self.matrix])\n",
    "                return '\\n'.join(['  '.join([(str(self.matrix[i][j])) for j in range(self.columns)])for i in range(self.rows)]) \n",
    "            \n",
    "\n",
    "\n",
    "    def T(self,i,j,k):  # Прибавление к i-ой строке j-ой строки с коэффициентом k\n",
    "        for a in range(self.columns):\n",
    "            self.matrix[i-1][a]+=(self.matrix[j-1][a])*k\n",
    "        return Matrix(self.matrix)\n",
    "    \n",
    "    def S(self,i,j):  # Перестановка строк\n",
    "        for a in range(self.columns):\n",
    "            self.matrix[i-1][a],self.matrix[j-1][a]=self.matrix[j-1][a],self.matrix[i-1][a]\n",
    "        return Matrix(self.matrix)\n",
    "    \n",
    "    def stairs(self):  # Приведение к ступенчатой матрице!!!!!\n",
    "        k=0\n",
    "        j=0\n",
    "        m=0\n",
    "        for m in range(min(self.rows,self.columns)):\n",
    "            for r in range(0+m,self.rows):\n",
    "                b=float('0.'+\"\".join([str(int(abs(self.matrix[r][l]))) for l in range (m,self.columns)]))\n",
    "                if b>k:\n",
    "                    k=b\n",
    "                    j=r+1\n",
    "                self.S(1,j+1)\n",
    "            for s in range(1+m,min(self.rows,self.columns)):\n",
    "                self.T(s+1,m+1,-1*(self.matrix[s][m]/self.matrix[m][m]))\n",
    "            \n",
    "            return Matrix(self.matrix)\n",
    "\n",
    "    def __add__(self,other):  # Cложение матриц \n",
    "        if isinstance(other,Matrix):\n",
    "            if self.columns==other.columns and self.rows==other.rows:\n",
    "                result=[]\n",
    "                for i in range(self.rows):\n",
    "                    result.append([0]*self.columns)\n",
    "                    for j in range(self.columns):\n",
    "                        result[i][j]=self.matrix[i][j]+other.matrix[i][j]\n",
    "                return Matrix(result)\n",
    "\n",
    "            else:\n",
    "                raise MatrixError('Equal sizes of the matrix are a prerequisite for adding them together')\n",
    "        else:\n",
    "            raise MatrixError('You are trying to add up a matrix to'+str(type(other)))\n",
    "\n",
    "    \n",
    "    def __mul__(self,other):  \n",
    "        if isinstance(other,Matrix):\n",
    "            if self.columns==other.rows:\n",
    "                result=[]\n",
    "                for i in range(self.rows):\n",
    "                    result.append([0]*other.columns)\n",
    "                    for j in range(other.columns):\n",
    "                        for k in range(self.columns):\n",
    "                            result[i][j]+=self.matrix[i][0+k]*other.matrix[0+k][j]\n",
    "                return Matrix(result)\n",
    "            else:\n",
    "                raise MatrixError('Self.colums and other.rows must be equel for matrix multiplication')\n",
    "        \n",
    "        elif isinstance(other,Number):\n",
    "            for i in self.rows:\n",
    "                for j in range(self.columns):\n",
    "                    self.matrix[i][j]*=other\n",
    "            return(Matrix(self.matrix))\n",
    "        \n",
    "        else:\n",
    "            raise MatrixError('You are trying to multiply a matrix and a'+str(type(other)))\n",
    "    \n",
    "    def transpose(self):  # Транспонирование матрицы (отражение относительно диагонали)\n",
    "        result=[]\n",
    "        for i in range(self.columns):\n",
    "            result.append([0]*self.rows)\n",
    "            for j in range(self.rows):\n",
    "                result[i][j]=self.matrix[j][i]\n",
    "        return(Matrix(result))\n"
   ]
  },
  {
   "cell_type": "markdown",
   "metadata": {},
   "source": [
    "Теперь стоит проверить класс матриц в действии"
   ]
  },
  {
   "cell_type": "code",
   "execution_count": 93,
   "metadata": {},
   "outputs": [
    {
     "name": "stdout",
     "output_type": "stream",
     "text": [
      "1.\n",
      "1  2  3\n",
      "4  5  6\n",
      "2.\n",
      "10  10  10\n",
      "10  10  10\n",
      "3.0\n"
     ]
    },
    {
     "ename": "MatrixError",
     "evalue": "Self.colums and other.rows must be equel for matrix multiplication",
     "output_type": "error",
     "traceback": [
      "\u001b[1;31m---------------------------------------------------------------------------\u001b[0m",
      "\u001b[1;31mMatrixError\u001b[0m                               Traceback (most recent call last)",
      "\u001b[1;32m~\\AppData\\Local\\Temp/ipykernel_18508/378249371.py\u001b[0m in \u001b[0;36m<module>\u001b[1;34m\u001b[0m\n\u001b[0;32m      6\u001b[0m \u001b[0mprint\u001b[0m\u001b[1;33m(\u001b[0m\u001b[0ma\u001b[0m\u001b[1;33m+\u001b[0m\u001b[0mb\u001b[0m\u001b[1;33m)\u001b[0m\u001b[1;33m\u001b[0m\u001b[1;33m\u001b[0m\u001b[0m\n\u001b[0;32m      7\u001b[0m \u001b[0mprint\u001b[0m\u001b[1;33m(\u001b[0m\u001b[1;36m3.\u001b[0m\u001b[1;33m)\u001b[0m\u001b[1;33m\u001b[0m\u001b[1;33m\u001b[0m\u001b[0m\n\u001b[1;32m----> 8\u001b[1;33m \u001b[0mprint\u001b[0m\u001b[1;33m(\u001b[0m\u001b[0ma\u001b[0m\u001b[1;33m*\u001b[0m\u001b[0mb\u001b[0m\u001b[1;33m)\u001b[0m  \u001b[1;31m# Ожидается ошибка(self.columns!=other.rows)\u001b[0m\u001b[1;33m\u001b[0m\u001b[1;33m\u001b[0m\u001b[0m\n\u001b[0m",
      "\u001b[1;32m~\\AppData\\Local\\Temp/ipykernel_18508/923433845.py\u001b[0m in \u001b[0;36m__mul__\u001b[1;34m(self, other)\u001b[0m\n\u001b[0;32m     89\u001b[0m                 \u001b[1;32mreturn\u001b[0m \u001b[0mMatrix\u001b[0m\u001b[1;33m(\u001b[0m\u001b[0mresult\u001b[0m\u001b[1;33m)\u001b[0m\u001b[1;33m\u001b[0m\u001b[1;33m\u001b[0m\u001b[0m\n\u001b[0;32m     90\u001b[0m             \u001b[1;32melse\u001b[0m\u001b[1;33m:\u001b[0m\u001b[1;33m\u001b[0m\u001b[1;33m\u001b[0m\u001b[0m\n\u001b[1;32m---> 91\u001b[1;33m                 \u001b[1;32mraise\u001b[0m \u001b[0mMatrixError\u001b[0m\u001b[1;33m(\u001b[0m\u001b[1;34m'Self.colums and other.rows must be equel for matrix multiplication'\u001b[0m\u001b[1;33m)\u001b[0m\u001b[1;33m\u001b[0m\u001b[1;33m\u001b[0m\u001b[0m\n\u001b[0m\u001b[0;32m     92\u001b[0m \u001b[1;33m\u001b[0m\u001b[0m\n\u001b[0;32m     93\u001b[0m         \u001b[1;32melif\u001b[0m \u001b[0misinstance\u001b[0m\u001b[1;33m(\u001b[0m\u001b[0mother\u001b[0m\u001b[1;33m,\u001b[0m\u001b[0mNumber\u001b[0m\u001b[1;33m)\u001b[0m\u001b[1;33m:\u001b[0m\u001b[1;33m\u001b[0m\u001b[1;33m\u001b[0m\u001b[0m\n",
      "\u001b[1;31mMatrixError\u001b[0m: Self.colums and other.rows must be equel for matrix multiplication"
     ]
    }
   ],
   "source": [
    "a=Matrix([[1,2,3],[4,5,6]])\n",
    "print(1)\n",
    "print(a)\n",
    "b=Matrix([[9,8,7],[6,5,4]])\n",
    "print(2)\n",
    "print(a+b)\n",
    "print(3)\n",
    "print(a*b)  # Ожидается ошибка(self.columns!=other.rows)"
   ]
  },
  {
   "cell_type": "code",
   "execution_count": 95,
   "metadata": {},
   "outputs": [
    {
     "name": "stdout",
     "output_type": "stream",
     "text": [
      "4.0\n",
      "27  30  30  31  40\n",
      "78  81  78  76  100\n",
      "5.0\n",
      "9  8  7  5  7\n",
      "6  5  4  4  6\n",
      "2  4  5  6  7\n",
      "\n",
      "9  6  2\n",
      "8  5  4\n",
      "7  4  5\n",
      "5  4  6\n",
      "7  6  7\n"
     ]
    }
   ],
   "source": [
    "a=Matrix([[1,2,3],[4,5,6]])\n",
    "b=Matrix([[9,8,7,5,7],[6,5,4,4,6],[2,4,5,6,7]])\n",
    "print(4)\n",
    "print(a*b)\n",
    "print(5)\n",
    "print(b)\n",
    "print()\n",
    "print(b.transpose())"
   ]
  }
 ],
 "metadata": {
  "interpreter": {
   "hash": "470a049257c21e07bb577a2ee24e1adf2d3fedb6af4c61eacc0e63762ac97499"
  },
  "kernelspec": {
   "display_name": "Python 3.9.7 64-bit",
   "language": "python",
   "name": "python3"
  },
  "language_info": {
   "codemirror_mode": {
    "name": "ipython",
    "version": 3
   },
   "file_extension": ".py",
   "mimetype": "text/x-python",
   "name": "python",
   "nbconvert_exporter": "python",
   "pygments_lexer": "ipython3",
   "version": "3.9.7"
  },
  "orig_nbformat": 4
 },
 "nbformat": 4,
 "nbformat_minor": 2
}
